{
  "nbformat": 4,
  "nbformat_minor": 0,
  "metadata": {
    "colab": {
      "provenance": []
    },
    "kernelspec": {
      "name": "python3",
      "display_name": "Python 3"
    },
    "language_info": {
      "name": "python"
    }
  },
  "cells": [
    {
      "cell_type": "markdown",
      "source": [
        "Question 1"
      ],
      "metadata": {
        "id": "AcoUs5ozN61I"
      }
    },
    {
      "cell_type": "code",
      "execution_count": 1,
      "metadata": {
        "colab": {
          "base_uri": "https://localhost:8080/",
          "height": 35
        },
        "id": "aF81ZKB3M8yc",
        "outputId": "2c563ae7-61a3-4cfc-ff94-66bf87ea46fc"
      },
      "outputs": [
        {
          "output_type": "execute_result",
          "data": {
            "text/plain": [
              "'ntyp'"
            ],
            "application/vnd.google.colaboratory.intrinsic+json": {
              "type": "string"
            }
          },
          "metadata": {},
          "execution_count": 1
        }
      ],
      "source": [
        "input = \"python\"\n",
        "resultant_string=input[0:3]+input[5]\n",
        "resultant_string[::-1]"
      ]
    },
    {
      "cell_type": "code",
      "source": [
        "a= 64\n",
        "b = 45\n",
        "print(\"sum: \", a+b)\n",
        "print(\"Difference:\", a-b)\n",
        "print(\"Multiplication:\", a*b)\n",
        "print(\"Division:\", a/b)"
      ],
      "metadata": {
        "colab": {
          "base_uri": "https://localhost:8080/"
        },
        "id": "XnEDaqP8PyCy",
        "outputId": "d864b5ce-464b-4345-9472-63d162c24fb1"
      },
      "execution_count": 14,
      "outputs": [
        {
          "output_type": "stream",
          "name": "stdout",
          "text": [
            "sum:  109\n",
            "Difference: 19\n",
            "Multiplication: 2880\n",
            "Division: 1.4222222222222223\n"
          ]
        }
      ]
    },
    {
      "cell_type": "markdown",
      "source": [
        "Question 2"
      ],
      "metadata": {
        "id": "s9sBGB62PMGZ"
      }
    },
    {
      "cell_type": "code",
      "source": [
        "inp_string=\"I love playing with python\"\n",
        "print(inp_string.replace('python','pythons'))"
      ],
      "metadata": {
        "colab": {
          "base_uri": "https://localhost:8080/"
        },
        "id": "aazoCgyzN3f0",
        "outputId": "be1eff70-05c5-4130-cf58-5adf4a702b1d"
      },
      "execution_count": 5,
      "outputs": [
        {
          "output_type": "stream",
          "name": "stdout",
          "text": [
            "I love playing with pythons\n"
          ]
        }
      ]
    },
    {
      "cell_type": "markdown",
      "source": [
        "Question 3\n"
      ],
      "metadata": {
        "id": "mcUozMAsPUS3"
      }
    },
    {
      "cell_type": "code",
      "source": [
        "marks=91\n",
        "if marks >=90:\n",
        "  print(\"grade A\")\n",
        "elif marks >=80:\n",
        "  print(\"grade B\")\n",
        "elif marks >= 70:\n",
        "  print(\"grade C\")\n",
        "elif marks >= 60:\n",
        "  print(\"grade D\")\n",
        "else :\n",
        "  print(\"grade F\")\n"
      ],
      "metadata": {
        "colab": {
          "base_uri": "https://localhost:8080/"
        },
        "id": "VbiDFAi5PWb2",
        "outputId": "9a33141e-b2e0-4495-e8f6-ae6ab5955575"
      },
      "execution_count": 20,
      "outputs": [
        {
          "output_type": "stream",
          "name": "stdout",
          "text": [
            "grade A\n"
          ]
        }
      ]
    }
  ]
}