{
  "nbformat": 4,
  "nbformat_minor": 0,
  "metadata": {
    "colab": {
      "provenance": []
    },
    "kernelspec": {
      "name": "python3",
      "display_name": "Python 3"
    },
    "language_info": {
      "name": "python"
    }
  },
  "cells": [
    {
      "cell_type": "markdown",
      "source": [
        "Question 1"
      ],
      "metadata": {
        "id": "yRrocXYPhimP"
      }
    },
    {
      "cell_type": "code",
      "execution_count": 25,
      "metadata": {
        "colab": {
          "base_uri": "https://localhost:8080/"
        },
        "id": "Qc2RViBxhgHR",
        "outputId": "dd2143bc-6ee9-4e1d-df64-bab225577a6a"
      },
      "outputs": [
        {
          "output_type": "stream",
          "name": "stdout",
          "text": [
            "Enter your first name: pranav\n",
            "Enter your last name: merugu\n",
            "Your full name is :  pranav merugu\n"
          ]
        }
      ],
      "source": [
        "def fullname(firstname, lastname):\n",
        "  return firstname+\" \"+ lastname\n",
        "\n",
        "firstname = input('Enter your first name: ')\n",
        "lastname = input('Enter your last name: ')\n",
        "print('Your full name is : ', fullname(firstname, lastname))"
      ]
    },
    {
      "cell_type": "code",
      "source": [
        "def string_alternative(full_name):\n",
        "  out_str = \"\"\n",
        "  counter = 0\n",
        "  for i in full_name:\n",
        "    if counter == 0:\n",
        "      out_str += i\n",
        "      counter = 1\n",
        "    else:\n",
        "      counter = 0\n",
        "  return out_str\n",
        "\n",
        "def main():\n",
        "  first_name = input('Enter your first name: ')\n",
        "  last_name = input('Enter your last name: ')\n",
        "  full_name = first_name+\" \"+last_name\n",
        "  print('Alternatively formatted name: ', string_alternative(full_name))\n",
        "\n",
        "if __name__ == \"__main__\":\n",
        "  main()"
      ],
      "metadata": {
        "colab": {
          "base_uri": "https://localhost:8080/"
        },
        "id": "jeyRUZRWTNeI",
        "outputId": "9b13231b-7ab0-417f-f4cb-03b1c512d6a2"
      },
      "execution_count": 26,
      "outputs": [
        {
          "output_type": "stream",
          "name": "stdout",
          "text": [
            "Enter your first name: Good\n",
            "Enter your last name: evening\n",
            "Alternatively formatted name:  Go vnn\n"
          ]
        }
      ]
    },
    {
      "cell_type": "markdown",
      "source": [
        "Question 2"
      ],
      "metadata": {
        "id": "G_nynBuTxZ7Y"
      }
    },
    {
      "cell_type": "code",
      "source": [
        "inp_file = open(\"/content/input.txt\", \"r\")\n",
        "out_file = open(\"/content/output.txt\", \"w\")\n",
        "data = {}\n",
        "\n",
        "for i in inp_file:\n",
        "  out_file.write(i)\n",
        "  para_line = i.split()\n",
        "  for j in para_line:\n",
        "    if(data.get(j) == None):\n",
        "      data[j] = 1\n",
        "    else:\n",
        "      data[j] += 1\n",
        "out_file.write(\"\\nWord_Count: \\n \")\n",
        "for key, value in data.items():\n",
        "  out_file.write('%s:%s\\n'%(key, value))\n",
        "inp_file.close()\n",
        "out_file.close()"
      ],
      "metadata": {
        "id": "b3j5HBb44uHZ"
      },
      "execution_count": null,
      "outputs": []
    },
    {
      "cell_type": "markdown",
      "source": [
        "Question 3"
      ],
      "metadata": {
        "id": "oR_EqhZP0vEV"
      }
    },
    {
      "cell_type": "code",
      "source": [
        "def InchtoCentimeters(value):\n",
        "  return value*2.54\n",
        "\n",
        "cust_heights = []\n",
        "centi_heights = []\n",
        "listelements = int(input('Enter number of elements in the list: '))\n",
        "for i in range(listelements):\n",
        "  element = int(input('Enter the height: '))\n",
        "  cust_heights.append(element)\n",
        "for ele in cust_heights:\n",
        "  value = int(ele)\n",
        "  centi_heights.append(InchtoCentimeters(value))\n",
        "print(\"Heights in centimeter: \", centi_heights)"
      ],
      "metadata": {
        "colab": {
          "base_uri": "https://localhost:8080/"
        },
        "id": "MTLcwLZn0w2J",
        "outputId": "e0d80a6d-378a-4bb4-986d-d8d98337a468"
      },
      "execution_count": 22,
      "outputs": [
        {
          "output_type": "stream",
          "name": "stdout",
          "text": [
            "Enter number of elements in the list: 4\n",
            "Enter the height: 150\n",
            "Enter the height: 155\n",
            "Enter the height: 145\n",
            "Enter the height: 148\n",
            "Heights in centimeter:  [381.0, 393.7, 368.3, 375.92]\n"
          ]
        }
      ]
    }
  ]
}